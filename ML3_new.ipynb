{
 "cells": [
  {
   "cell_type": "markdown",
   "metadata": {},
   "source": [
    "# ML-assignment 3"
   ]
  },
  {
   "cell_type": "markdown",
   "metadata": {},
   "source": [
    "## Part 0\n",
    "* Hospital/bank/customer customer service - how many males/females are calling\n",
    "* \n",
    "\n",
    "### Streaming\n",
    "* Yes, with the proper data preprocessing it would be possible. We only need to extract the chosen features. We would probably have to extract only the last small part (maybe 1 second) the data in order to identify the gender of the person currently talking. However this would probably only work with one person talking at a time."
   ]
  },
  {
   "cell_type": "markdown",
   "metadata": {},
   "source": [
    "# Part 1\n"
   ]
  },
  {
   "cell_type": "code",
   "execution_count": 169,
   "metadata": {},
   "outputs": [
    {
     "name": "stdout",
     "output_type": "stream",
     "text": [
      "Populating the interactive namespace from numpy and matplotlib\n"
     ]
    },
    {
     "name": "stderr",
     "output_type": "stream",
     "text": [
      "C:\\Users\\sarke\\Anaconda3\\lib\\site-packages\\IPython\\core\\magics\\pylab.py:160: UserWarning: pylab import has clobbered these variables: ['test']\n",
      "`%matplotlib` prevents importing * from pylab and numpy\n",
      "  \"\\n`%matplotlib` prevents importing * from pylab and numpy\"\n"
     ]
    }
   ],
   "source": [
    "%pylab inline\n",
    "import pandas as pd\n",
    "import seaborn as sns"
   ]
  },
  {
   "cell_type": "code",
   "execution_count": 170,
   "metadata": {},
   "outputs": [],
   "source": [
    "data_url = \"https://raw.githubusercontent.com/OnkelDunkel/MLAssignment2/master/voice.csv\"\n",
    "df = pd.read_csv(data_url)"
   ]
  },
  {
   "cell_type": "code",
   "execution_count": 171,
   "metadata": {},
   "outputs": [
    {
     "data": {
      "text/html": [
       "<div>\n",
       "<style scoped>\n",
       "    .dataframe tbody tr th:only-of-type {\n",
       "        vertical-align: middle;\n",
       "    }\n",
       "\n",
       "    .dataframe tbody tr th {\n",
       "        vertical-align: top;\n",
       "    }\n",
       "\n",
       "    .dataframe thead th {\n",
       "        text-align: right;\n",
       "    }\n",
       "</style>\n",
       "<table border=\"1\" class=\"dataframe\">\n",
       "  <thead>\n",
       "    <tr style=\"text-align: right;\">\n",
       "      <th></th>\n",
       "      <th>meanfreq</th>\n",
       "      <th>sd</th>\n",
       "      <th>median</th>\n",
       "      <th>Q25</th>\n",
       "      <th>Q75</th>\n",
       "      <th>IQR</th>\n",
       "      <th>skew</th>\n",
       "      <th>kurt</th>\n",
       "      <th>sp.ent</th>\n",
       "      <th>sfm</th>\n",
       "      <th>...</th>\n",
       "      <th>centroid</th>\n",
       "      <th>meanfun</th>\n",
       "      <th>minfun</th>\n",
       "      <th>maxfun</th>\n",
       "      <th>meandom</th>\n",
       "      <th>mindom</th>\n",
       "      <th>maxdom</th>\n",
       "      <th>dfrange</th>\n",
       "      <th>modindx</th>\n",
       "      <th>label</th>\n",
       "    </tr>\n",
       "  </thead>\n",
       "  <tbody>\n",
       "    <tr>\n",
       "      <th>0</th>\n",
       "      <td>0.059781</td>\n",
       "      <td>0.064241</td>\n",
       "      <td>0.032027</td>\n",
       "      <td>0.015071</td>\n",
       "      <td>0.090193</td>\n",
       "      <td>0.075122</td>\n",
       "      <td>12.863462</td>\n",
       "      <td>274.402906</td>\n",
       "      <td>0.893369</td>\n",
       "      <td>0.491918</td>\n",
       "      <td>...</td>\n",
       "      <td>0.059781</td>\n",
       "      <td>0.084279</td>\n",
       "      <td>0.015702</td>\n",
       "      <td>0.275862</td>\n",
       "      <td>0.007812</td>\n",
       "      <td>0.007812</td>\n",
       "      <td>0.007812</td>\n",
       "      <td>0.000000</td>\n",
       "      <td>0.000000</td>\n",
       "      <td>male</td>\n",
       "    </tr>\n",
       "    <tr>\n",
       "      <th>1</th>\n",
       "      <td>0.066009</td>\n",
       "      <td>0.067310</td>\n",
       "      <td>0.040229</td>\n",
       "      <td>0.019414</td>\n",
       "      <td>0.092666</td>\n",
       "      <td>0.073252</td>\n",
       "      <td>22.423285</td>\n",
       "      <td>634.613855</td>\n",
       "      <td>0.892193</td>\n",
       "      <td>0.513724</td>\n",
       "      <td>...</td>\n",
       "      <td>0.066009</td>\n",
       "      <td>0.107937</td>\n",
       "      <td>0.015826</td>\n",
       "      <td>0.250000</td>\n",
       "      <td>0.009014</td>\n",
       "      <td>0.007812</td>\n",
       "      <td>0.054688</td>\n",
       "      <td>0.046875</td>\n",
       "      <td>0.052632</td>\n",
       "      <td>male</td>\n",
       "    </tr>\n",
       "    <tr>\n",
       "      <th>2</th>\n",
       "      <td>0.077316</td>\n",
       "      <td>0.083829</td>\n",
       "      <td>0.036718</td>\n",
       "      <td>0.008701</td>\n",
       "      <td>0.131908</td>\n",
       "      <td>0.123207</td>\n",
       "      <td>30.757155</td>\n",
       "      <td>1024.927705</td>\n",
       "      <td>0.846389</td>\n",
       "      <td>0.478905</td>\n",
       "      <td>...</td>\n",
       "      <td>0.077316</td>\n",
       "      <td>0.098706</td>\n",
       "      <td>0.015656</td>\n",
       "      <td>0.271186</td>\n",
       "      <td>0.007990</td>\n",
       "      <td>0.007812</td>\n",
       "      <td>0.015625</td>\n",
       "      <td>0.007812</td>\n",
       "      <td>0.046512</td>\n",
       "      <td>male</td>\n",
       "    </tr>\n",
       "    <tr>\n",
       "      <th>3</th>\n",
       "      <td>0.151228</td>\n",
       "      <td>0.072111</td>\n",
       "      <td>0.158011</td>\n",
       "      <td>0.096582</td>\n",
       "      <td>0.207955</td>\n",
       "      <td>0.111374</td>\n",
       "      <td>1.232831</td>\n",
       "      <td>4.177296</td>\n",
       "      <td>0.963322</td>\n",
       "      <td>0.727232</td>\n",
       "      <td>...</td>\n",
       "      <td>0.151228</td>\n",
       "      <td>0.088965</td>\n",
       "      <td>0.017798</td>\n",
       "      <td>0.250000</td>\n",
       "      <td>0.201497</td>\n",
       "      <td>0.007812</td>\n",
       "      <td>0.562500</td>\n",
       "      <td>0.554688</td>\n",
       "      <td>0.247119</td>\n",
       "      <td>male</td>\n",
       "    </tr>\n",
       "    <tr>\n",
       "      <th>4</th>\n",
       "      <td>0.135120</td>\n",
       "      <td>0.079146</td>\n",
       "      <td>0.124656</td>\n",
       "      <td>0.078720</td>\n",
       "      <td>0.206045</td>\n",
       "      <td>0.127325</td>\n",
       "      <td>1.101174</td>\n",
       "      <td>4.333713</td>\n",
       "      <td>0.971955</td>\n",
       "      <td>0.783568</td>\n",
       "      <td>...</td>\n",
       "      <td>0.135120</td>\n",
       "      <td>0.106398</td>\n",
       "      <td>0.016931</td>\n",
       "      <td>0.266667</td>\n",
       "      <td>0.712812</td>\n",
       "      <td>0.007812</td>\n",
       "      <td>5.484375</td>\n",
       "      <td>5.476562</td>\n",
       "      <td>0.208274</td>\n",
       "      <td>male</td>\n",
       "    </tr>\n",
       "  </tbody>\n",
       "</table>\n",
       "<p>5 rows × 21 columns</p>\n",
       "</div>"
      ],
      "text/plain": [
       "   meanfreq        sd    median       Q25       Q75       IQR       skew  \\\n",
       "0  0.059781  0.064241  0.032027  0.015071  0.090193  0.075122  12.863462   \n",
       "1  0.066009  0.067310  0.040229  0.019414  0.092666  0.073252  22.423285   \n",
       "2  0.077316  0.083829  0.036718  0.008701  0.131908  0.123207  30.757155   \n",
       "3  0.151228  0.072111  0.158011  0.096582  0.207955  0.111374   1.232831   \n",
       "4  0.135120  0.079146  0.124656  0.078720  0.206045  0.127325   1.101174   \n",
       "\n",
       "          kurt    sp.ent       sfm  ...  centroid   meanfun    minfun  \\\n",
       "0   274.402906  0.893369  0.491918  ...  0.059781  0.084279  0.015702   \n",
       "1   634.613855  0.892193  0.513724  ...  0.066009  0.107937  0.015826   \n",
       "2  1024.927705  0.846389  0.478905  ...  0.077316  0.098706  0.015656   \n",
       "3     4.177296  0.963322  0.727232  ...  0.151228  0.088965  0.017798   \n",
       "4     4.333713  0.971955  0.783568  ...  0.135120  0.106398  0.016931   \n",
       "\n",
       "     maxfun   meandom    mindom    maxdom   dfrange   modindx  label  \n",
       "0  0.275862  0.007812  0.007812  0.007812  0.000000  0.000000   male  \n",
       "1  0.250000  0.009014  0.007812  0.054688  0.046875  0.052632   male  \n",
       "2  0.271186  0.007990  0.007812  0.015625  0.007812  0.046512   male  \n",
       "3  0.250000  0.201497  0.007812  0.562500  0.554688  0.247119   male  \n",
       "4  0.266667  0.712812  0.007812  5.484375  5.476562  0.208274   male  \n",
       "\n",
       "[5 rows x 21 columns]"
      ]
     },
     "execution_count": 171,
     "metadata": {},
     "output_type": "execute_result"
    }
   ],
   "source": [
    "df.head()"
   ]
  },
  {
   "cell_type": "code",
   "execution_count": 172,
   "metadata": {},
   "outputs": [
    {
     "data": {
      "text/plain": [
       "<matplotlib.axes._subplots.AxesSubplot at 0x1db7c28f668>"
      ]
     },
     "execution_count": 172,
     "metadata": {},
     "output_type": "execute_result"
    },
    {
     "data": {
      "image/png": "[encoded data removed]",
      "text/plain": [
       "<Figure size 432x288 with 2 Axes>"
      ]
     },
     "metadata": {
      "needs_background": "light"
     },
     "output_type": "display_data"
    }
   ],
   "source": [
    "sns.heatmap(df.corr(),linewidths=0.50,vmax=1.0, square=True, cmap=\"Blues\", linecolor='black')"
   ]
  },
  {
   "cell_type": "markdown",
   "metadata": {},
   "source": [
    "### Do we see correlations in feature space?\n",
    "* SD (standard deviation of frequency), IQR, skew, kurt, spectral entropy (sp.ent), sectral flatness (sfm) and modinx (modulation index) are statistical numbers. As seen in the correlation matrix they have little correlation with all other features in the dataset. This means that we might be able to remove those feature to increase performance and maybe achieve a better classification."
   ]
  },
  {
   "cell_type": "code",
   "execution_count": 173,
   "metadata": {},
   "outputs": [
    {
     "data": {
      "text/plain": [
       "meanfreq    False\n",
       "sd          False\n",
       "median      False\n",
       "Q25         False\n",
       "Q75         False\n",
       "IQR         False\n",
       "skew        False\n",
       "kurt        False\n",
       "sp.ent      False\n",
       "sfm         False\n",
       "mode        False\n",
       "centroid    False\n",
       "meanfun     False\n",
       "minfun      False\n",
       "maxfun      False\n",
       "meandom     False\n",
       "mindom      False\n",
       "maxdom      False\n",
       "dfrange     False\n",
       "modindx     False\n",
       "label       False\n",
       "dtype: bool"
      ]
     },
     "execution_count": 173,
     "metadata": {},
     "output_type": "execute_result"
    }
   ],
   "source": [
    "df.isnull().any()"
   ]
  },
  {
   "cell_type": "code",
   "execution_count": 174,
   "metadata": {},
   "outputs": [
    {
     "data": {
      "text/plain": [
       "female    1584\n",
       "male      1584\n",
       "Name: label, dtype: int64"
      ]
     },
     "execution_count": 174,
     "metadata": {},
     "output_type": "execute_result"
    }
   ],
   "source": [
    "df.label.value_counts()"
   ]
  },
  {
   "cell_type": "code",
   "execution_count": 175,
   "metadata": {},
   "outputs": [
    {
     "data": {
      "text/plain": [
       "1    1584\n",
       "0    1584\n",
       "Name: label, dtype: int64"
      ]
     },
     "execution_count": 175,
     "metadata": {},
     "output_type": "execute_result"
    }
   ],
   "source": [
    "df.label = np.where(df.label.values == 'female', 1, 0)\n",
    "df.label.value_counts()"
   ]
  },
  {
   "cell_type": "markdown",
   "metadata": {},
   "source": [
    "df.columns"
   ]
  },
  {
   "cell_type": "code",
   "execution_count": 176,
   "metadata": {},
   "outputs": [],
   "source": [
    "import numpy as np\n",
    "import pandas as pd\n",
    "import sklearn\n",
    "from sklearn.model_selection import train_test_split\n",
    "from sklearn.preprocessing import LabelEncoder\n",
    "from sklearn.preprocessing import MinMaxScaler"
   ]
  },
  {
   "cell_type": "code",
   "execution_count": null,
   "metadata": {},
   "outputs": [],
   "source": []
  },
  {
   "cell_type": "code",
   "execution_count": 177,
   "metadata": {},
   "outputs": [],
   "source": [
    "import tensorflow as tf\n",
    "import pandas as pd\n",
    "from sklearn.model_selection import train_test_split"
   ]
  },
  {
   "cell_type": "code",
   "execution_count": 178,
   "metadata": {},
   "outputs": [],
   "source": [
    "# Split Pandas Frame in features...\n",
    "x = df.iloc[:,0:-1]\n",
    "#...and label.\n",
    "y = df.iloc[:,-1]\n",
    "\n",
    "# Scale the data (which means scaling the extremes, namely -- for 'voices.csv' -- the skewness and curtosis)\n",
    "scaler = MinMaxScaler(feature_range=(0., 1.))\n",
    "x = scaler.fit_transform(x)\n",
    "\n",
    "# Re-define labels as '0' or '1', rather than 'male' or 'female'\n",
    "label = LabelEncoder()\n",
    "y = label.fit_transform(y)\n",
    "    "
   ]
  },
  {
   "cell_type": "code",
   "execution_count": 179,
   "metadata": {},
   "outputs": [
    {
     "data": {
      "text/plain": [
       "(numpy.ndarray, numpy.ndarray)"
      ]
     },
     "execution_count": 179,
     "metadata": {},
     "output_type": "execute_result"
    }
   ],
   "source": [
    "\n",
    "type(x), type(y)"
   ]
  },
  {
   "cell_type": "code",
   "execution_count": 180,
   "metadata": {},
   "outputs": [
    {
     "data": {
      "text/plain": [
       "((2534, 20), (2534,), (634, 20), (634,))"
      ]
     },
     "execution_count": 180,
     "metadata": {},
     "output_type": "execute_result"
    }
   ],
   "source": [
    "# Split that data in training set and testing (validation) set (using scikit-learn lib.).\n",
    "x_train, x_test, y_train, y_test = train_test_split(x, y, test_size=0.2, random_state=42)\n",
    "\n",
    "# Check shapes\n",
    "x_train.shape, y_train.shape, x_test.shape, y_test.shape"
   ]
  },
  {
   "cell_type": "code",
   "execution_count": 181,
   "metadata": {},
   "outputs": [
    {
     "data": {
      "text/plain": [
       "(numpy.ndarray, numpy.ndarray)"
      ]
     },
     "execution_count": 181,
     "metadata": {},
     "output_type": "execute_result"
    }
   ],
   "source": [
    "# Check x_train's type\n",
    "type(x_train), type(x_train)"
   ]
  },
  {
   "cell_type": "code",
   "execution_count": 182,
   "metadata": {},
   "outputs": [],
   "source": [
    "x_train_flat = x_train\n",
    "x_test_flat = x_test"
   ]
  },
  {
   "cell_type": "code",
   "execution_count": 183,
   "metadata": {},
   "outputs": [
    {
     "data": {
      "text/plain": [
       "((2534, 20), (634, 20), (2534,), (634,))"
      ]
     },
     "execution_count": 183,
     "metadata": {},
     "output_type": "execute_result"
    }
   ],
   "source": [
    "x_train_flat.shape, x_test_flat.shape, y_train.shape, y_test.shape"
   ]
  },
  {
   "cell_type": "code",
   "execution_count": 184,
   "metadata": {},
   "outputs": [
    {
     "data": {
      "text/plain": [
       "(numpy.ndarray, numpy.ndarray)"
      ]
     },
     "execution_count": 184,
     "metadata": {},
     "output_type": "execute_result"
    }
   ],
   "source": [
    "type(y_train), type(y_test)"
   ]
  },
  {
   "cell_type": "markdown",
   "metadata": {},
   "source": [
    "from tensorflow.keras.layers import Dense, Dropout\n",
    "from tensorflow.keras.models import Sequential\n",
    "from sklearn.model_selection import cross_val_score\n"
   ]
  },
  {
   "cell_type": "code",
   "execution_count": 185,
   "metadata": {},
   "outputs": [
    {
     "name": "stdout",
     "output_type": "stream",
     "text": [
      "20\n"
     ]
    }
   ],
   "source": [
    "from keras import models\n",
    "from keras import layers\n",
    "\n",
    "\n",
    "print(x_train_flat.shape[1])\n",
    "\n",
    "model = models.Sequential([\n",
    "  layers.Dense(128, activation='relu', input_shape= (x_train_flat.shape[1],) ),\n",
    "  layers.Dropout(0.2),\n",
    "  layers.Dense(2, activation='sigmoid')\n",
    "])"
   ]
  },
  {
   "cell_type": "code",
   "execution_count": 186,
   "metadata": {},
   "outputs": [],
   "source": [
    "model.compile(optimizer='adam',\n",
    "              loss='sparse_categorical_crossentropy',\n",
    "              metrics=['accuracy'])"
   ]
  },
  {
   "cell_type": "code",
   "execution_count": 187,
   "metadata": {},
   "outputs": [
    {
     "name": "stdout",
     "output_type": "stream",
     "text": [
      "Epoch 1/100\n",
      "2534/2534 [==============================] - 0s 141us/step - loss: 0.6321 - acc: 0.6531\n",
      "Epoch 2/100\n",
      "2534/2534 [==============================] - 0s 47us/step - loss: 0.4653 - acc: 0.8232\n",
      "Epoch 3/100\n",
      "2534/2534 [==============================] - 0s 38us/step - loss: 0.3381 - acc: 0.8879\n",
      "Epoch 4/100\n",
      "2534/2534 [==============================] - 0s 38us/step - loss: 0.2432 - acc: 0.9337\n",
      "Epoch 5/100\n",
      "2534/2534 [==============================] - 0s 40us/step - loss: 0.1909 - acc: 0.9495\n",
      "Epoch 6/100\n",
      "2534/2534 [==============================] - 0s 43us/step - loss: 0.1680 - acc: 0.9463\n",
      "Epoch 7/100\n",
      "2534/2534 [==============================] - 0s 45us/step - loss: 0.1395 - acc: 0.9613\n",
      "Epoch 8/100\n",
      "2534/2534 [==============================] - 0s 42us/step - loss: 0.1329 - acc: 0.9625\n",
      "Epoch 9/100\n",
      "2534/2534 [==============================] - 0s 46us/step - loss: 0.1228 - acc: 0.9645\n",
      "Epoch 10/100\n",
      "2534/2534 [==============================] - 0s 40us/step - loss: 0.1149 - acc: 0.9684\n",
      "Epoch 11/100\n",
      "2534/2534 [==============================] - 0s 38us/step - loss: 0.1117 - acc: 0.9637\n",
      "Epoch 12/100\n",
      "2534/2534 [==============================] - 0s 48us/step - loss: 0.1067 - acc: 0.9684\n",
      "Epoch 13/100\n",
      "2534/2534 [==============================] - 0s 40us/step - loss: 0.1006 - acc: 0.9680\n",
      "Epoch 14/100\n",
      "2534/2534 [==============================] - 0s 38us/step - loss: 0.0976 - acc: 0.9692\n",
      "Epoch 15/100\n",
      "2534/2534 [==============================] - 0s 38us/step - loss: 0.1015 - acc: 0.9680\n",
      "Epoch 16/100\n",
      "2534/2534 [==============================] - 0s 43us/step - loss: 0.0966 - acc: 0.9704\n",
      "Epoch 17/100\n",
      "2534/2534 [==============================] - 0s 38us/step - loss: 0.1006 - acc: 0.9669\n",
      "Epoch 18/100\n",
      "2534/2534 [==============================] - 0s 41us/step - loss: 0.0957 - acc: 0.9672\n",
      "Epoch 19/100\n",
      "2534/2534 [==============================] - 0s 45us/step - loss: 0.0927 - acc: 0.9704\n",
      "Epoch 20/100\n",
      "2534/2534 [==============================] - 0s 44us/step - loss: 0.0866 - acc: 0.9736\n",
      "Epoch 21/100\n",
      "2534/2534 [==============================] - 0s 41us/step - loss: 0.0874 - acc: 0.9755\n",
      "Epoch 22/100\n",
      "2534/2534 [==============================] - 0s 52us/step - loss: 0.0850 - acc: 0.9755\n",
      "Epoch 23/100\n",
      "2534/2534 [==============================] - 0s 60us/step - loss: 0.0860 - acc: 0.9732\n",
      "Epoch 24/100\n",
      "2534/2534 [==============================] - 0s 51us/step - loss: 0.0873 - acc: 0.9740\n",
      "Epoch 25/100\n",
      "2534/2534 [==============================] - 0s 47us/step - loss: 0.0818 - acc: 0.9743\n",
      "Epoch 26/100\n",
      "2534/2534 [==============================] - 0s 45us/step - loss: 0.0863 - acc: 0.9716\n",
      "Epoch 27/100\n",
      "2534/2534 [==============================] - ETA: 0s - loss: 0.0845 - acc: 0.971 - 0s 53us/step - loss: 0.0865 - acc: 0.9720\n",
      "Epoch 28/100\n",
      "2534/2534 [==============================] - 0s 57us/step - loss: 0.0833 - acc: 0.9736\n",
      "Epoch 29/100\n",
      "2534/2534 [==============================] - 0s 43us/step - loss: 0.0798 - acc: 0.9759\n",
      "Epoch 30/100\n",
      "2534/2534 [==============================] - 0s 55us/step - loss: 0.0795 - acc: 0.9736\n",
      "Epoch 31/100\n",
      "2534/2534 [==============================] - 0s 38us/step - loss: 0.0786 - acc: 0.9743\n",
      "Epoch 32/100\n",
      "2534/2534 [==============================] - 0s 40us/step - loss: 0.0804 - acc: 0.9743\n",
      "Epoch 33/100\n",
      "2534/2534 [==============================] - 0s 39us/step - loss: 0.0768 - acc: 0.9779\n",
      "Epoch 34/100\n",
      "2534/2534 [==============================] - 0s 43us/step - loss: 0.0809 - acc: 0.9767\n",
      "Epoch 35/100\n",
      "2534/2534 [==============================] - 0s 39us/step - loss: 0.0749 - acc: 0.9763\n",
      "Epoch 36/100\n",
      "2534/2534 [==============================] - 0s 43us/step - loss: 0.0768 - acc: 0.9759\n",
      "Epoch 37/100\n",
      "2534/2534 [==============================] - 0s 42us/step - loss: 0.0749 - acc: 0.9755\n",
      "Epoch 38/100\n",
      "2534/2534 [==============================] - 0s 40us/step - loss: 0.0785 - acc: 0.9751\n",
      "Epoch 39/100\n",
      "2534/2534 [==============================] - 0s 44us/step - loss: 0.0738 - acc: 0.9736\n",
      "Epoch 40/100\n",
      "2534/2534 [==============================] - 0s 53us/step - loss: 0.0717 - acc: 0.9779\n",
      "Epoch 41/100\n",
      "2534/2534 [==============================] - 0s 42us/step - loss: 0.0744 - acc: 0.9747\n",
      "Epoch 42/100\n",
      "2534/2534 [==============================] - 0s 44us/step - loss: 0.0762 - acc: 0.9763\n",
      "Epoch 43/100\n",
      "2534/2534 [==============================] - 0s 40us/step - loss: 0.0783 - acc: 0.9747\n",
      "Epoch 44/100\n",
      "2534/2534 [==============================] - 0s 43us/step - loss: 0.0699 - acc: 0.9775\n",
      "Epoch 45/100\n",
      "2534/2534 [==============================] - 0s 44us/step - loss: 0.0710 - acc: 0.9763\n",
      "Epoch 46/100\n",
      "2534/2534 [==============================] - 0s 44us/step - loss: 0.0703 - acc: 0.9779\n",
      "Epoch 47/100\n",
      "2534/2534 [==============================] - 0s 45us/step - loss: 0.0746 - acc: 0.9755\n",
      "Epoch 48/100\n",
      "2534/2534 [==============================] - 0s 43us/step - loss: 0.0694 - acc: 0.9783\n",
      "Epoch 49/100\n",
      "2534/2534 [==============================] - 0s 47us/step - loss: 0.0704 - acc: 0.9771\n",
      "Epoch 50/100\n",
      "2534/2534 [==============================] - 0s 45us/step - loss: 0.0688 - acc: 0.9775\n",
      "Epoch 51/100\n",
      "2534/2534 [==============================] - 0s 44us/step - loss: 0.0669 - acc: 0.9775\n",
      "Epoch 52/100\n",
      "2534/2534 [==============================] - 0s 44us/step - loss: 0.0682 - acc: 0.9799\n",
      "Epoch 53/100\n",
      "2534/2534 [==============================] - 0s 43us/step - loss: 0.0680 - acc: 0.9783\n",
      "Epoch 54/100\n",
      "2534/2534 [==============================] - 0s 39us/step - loss: 0.0676 - acc: 0.9795\n",
      "Epoch 55/100\n",
      "2534/2534 [==============================] - 0s 47us/step - loss: 0.0660 - acc: 0.9787\n",
      "Epoch 56/100\n",
      "2534/2534 [==============================] - 0s 40us/step - loss: 0.0660 - acc: 0.9787\n",
      "Epoch 57/100\n",
      "2534/2534 [==============================] - 0s 38us/step - loss: 0.0646 - acc: 0.9795\n",
      "Epoch 58/100\n",
      "2534/2534 [==============================] - 0s 36us/step - loss: 0.0698 - acc: 0.9759\n",
      "Epoch 59/100\n",
      "2534/2534 [==============================] - 0s 53us/step - loss: 0.0633 - acc: 0.9803\n",
      "Epoch 60/100\n",
      "2534/2534 [==============================] - 0s 43us/step - loss: 0.0645 - acc: 0.9779\n",
      "Epoch 61/100\n",
      "2534/2534 [==============================] - 0s 43us/step - loss: 0.0665 - acc: 0.9767\n",
      "Epoch 62/100\n",
      "2534/2534 [==============================] - 0s 38us/step - loss: 0.0618 - acc: 0.9807\n",
      "Epoch 63/100\n",
      "2534/2534 [==============================] - 0s 42us/step - loss: 0.0669 - acc: 0.9795\n",
      "Epoch 64/100\n",
      "2534/2534 [==============================] - 0s 43us/step - loss: 0.0631 - acc: 0.9787\n",
      "Epoch 65/100\n",
      "2534/2534 [==============================] - 0s 44us/step - loss: 0.0627 - acc: 0.9795\n",
      "Epoch 66/100\n",
      "2534/2534 [==============================] - 0s 44us/step - loss: 0.0648 - acc: 0.9791\n",
      "Epoch 67/100\n",
      "2534/2534 [==============================] - 0s 44us/step - loss: 0.0640 - acc: 0.9795\n",
      "Epoch 68/100\n",
      "2534/2534 [==============================] - 0s 46us/step - loss: 0.0605 - acc: 0.9822\n",
      "Epoch 69/100\n",
      "2534/2534 [==============================] - 0s 53us/step - loss: 0.0621 - acc: 0.9783\n",
      "Epoch 70/100\n",
      "2534/2534 [==============================] - 0s 50us/step - loss: 0.0614 - acc: 0.9807\n",
      "Epoch 71/100\n",
      "2534/2534 [==============================] - 0s 57us/step - loss: 0.0587 - acc: 0.9815\n",
      "Epoch 72/100\n",
      "2534/2534 [==============================] - 0s 50us/step - loss: 0.0636 - acc: 0.9791\n",
      "Epoch 73/100\n",
      "2534/2534 [==============================] - 0s 57us/step - loss: 0.0612 - acc: 0.9799\n",
      "Epoch 74/100\n",
      "2534/2534 [==============================] - 0s 59us/step - loss: 0.0613 - acc: 0.9799\n",
      "Epoch 75/100\n",
      "2534/2534 [==============================] - 0s 56us/step - loss: 0.0637 - acc: 0.9807\n",
      "Epoch 76/100\n",
      "2534/2534 [==============================] - 0s 65us/step - loss: 0.0588 - acc: 0.9799\n",
      "Epoch 77/100\n",
      "2534/2534 [==============================] - 0s 58us/step - loss: 0.0602 - acc: 0.9799\n",
      "Epoch 78/100\n",
      "2534/2534 [==============================] - 0s 53us/step - loss: 0.0619 - acc: 0.9791\n",
      "Epoch 79/100\n",
      "2534/2534 [==============================] - 0s 64us/step - loss: 0.0576 - acc: 0.9815\n",
      "Epoch 80/100\n",
      "2534/2534 [==============================] - 0s 52us/step - loss: 0.0574 - acc: 0.9830\n",
      "Epoch 81/100\n",
      "2534/2534 [==============================] - 0s 69us/step - loss: 0.0627 - acc: 0.9779\n",
      "Epoch 82/100\n"
     ]
    },
    {
     "name": "stdout",
     "output_type": "stream",
     "text": [
      "2534/2534 [==============================] - 0s 61us/step - loss: 0.0578 - acc: 0.9799\n",
      "Epoch 83/100\n",
      "2534/2534 [==============================] - 0s 69us/step - loss: 0.0555 - acc: 0.9822\n",
      "Epoch 84/100\n",
      "2534/2534 [==============================] - 0s 65us/step - loss: 0.0612 - acc: 0.9783\n",
      "Epoch 85/100\n",
      "2534/2534 [==============================] - 0s 45us/step - loss: 0.0581 - acc: 0.9799\n",
      "Epoch 86/100\n",
      "2534/2534 [==============================] - 0s 51us/step - loss: 0.0566 - acc: 0.9791\n",
      "Epoch 87/100\n",
      "2534/2534 [==============================] - 0s 44us/step - loss: 0.0567 - acc: 0.9818\n",
      "Epoch 88/100\n",
      "2534/2534 [==============================] - 0s 47us/step - loss: 0.0585 - acc: 0.9807\n",
      "Epoch 89/100\n",
      "2534/2534 [==============================] - 0s 47us/step - loss: 0.0584 - acc: 0.9787\n",
      "Epoch 90/100\n",
      "2534/2534 [==============================] - 0s 50us/step - loss: 0.0605 - acc: 0.9767\n",
      "Epoch 91/100\n",
      "2534/2534 [==============================] - 0s 70us/step - loss: 0.0547 - acc: 0.9818\n",
      "Epoch 92/100\n",
      "2534/2534 [==============================] - 0s 61us/step - loss: 0.0541 - acc: 0.9818\n",
      "Epoch 93/100\n",
      "2534/2534 [==============================] - 0s 38us/step - loss: 0.0580 - acc: 0.9815\n",
      "Epoch 94/100\n",
      "2534/2534 [==============================] - 0s 37us/step - loss: 0.0552 - acc: 0.9807\n",
      "Epoch 95/100\n",
      "2534/2534 [==============================] - 0s 37us/step - loss: 0.0560 - acc: 0.9799\n",
      "Epoch 96/100\n",
      "2534/2534 [==============================] - 0s 37us/step - loss: 0.0610 - acc: 0.9791\n",
      "Epoch 97/100\n",
      "2534/2534 [==============================] - 0s 37us/step - loss: 0.0562 - acc: 0.9811\n",
      "Epoch 98/100\n",
      "2534/2534 [==============================] - 0s 42us/step - loss: 0.0544 - acc: 0.9826\n",
      "Epoch 99/100\n",
      "2534/2534 [==============================] - 0s 40us/step - loss: 0.0527 - acc: 0.9834\n",
      "Epoch 100/100\n",
      "2534/2534 [==============================] - 0s 39us/step - loss: 0.0546 - acc: 0.9822\n"
     ]
    },
    {
     "data": {
      "text/plain": [
       "<keras.callbacks.History at 0x1db7d738f60>"
      ]
     },
     "execution_count": 187,
     "metadata": {},
     "output_type": "execute_result"
    }
   ],
   "source": [
    "model.fit(x_train_flat, y_train, epochs=100)"
   ]
  },
  {
   "cell_type": "code",
   "execution_count": 188,
   "metadata": {},
   "outputs": [
    {
     "name": "stdout",
     "output_type": "stream",
     "text": [
      "634/634 [==============================] - 0s 207us/step\n"
     ]
    },
    {
     "data": {
      "text/plain": [
       "[0.06355679517006649, 0.9747634058118995]"
      ]
     },
     "execution_count": 188,
     "metadata": {},
     "output_type": "execute_result"
    }
   ],
   "source": [
    "model.evaluate(x_test_flat, y_test)"
   ]
  },
  {
   "cell_type": "code",
   "execution_count": 163,
   "metadata": {},
   "outputs": [],
   "source": [
    "def create_model():\n",
    "    model = Sequential()\n",
    "    model.add(Dense(32, input_dim=16, kernel_initializer = 'normal', activation='relu'))\n",
    "    model.add(Dense(16, kernel_initializer = 'normal', activation='relu'))\n",
    "    model.add(Dense(1, kernel_initializer = 'normal', activation='sigmoid'))\n",
    "    model.compile(optimizer='adam',loss='sparse_categorical_crossentropy',metrics=['accuracy'])\n",
    "    return model"
   ]
  },
  {
   "cell_type": "code",
   "execution_count": 164,
   "metadata": {},
   "outputs": [
    {
     "data": {
      "text/plain": [
       "<function __main__.create_model()>"
      ]
     },
     "execution_count": 164,
     "metadata": {},
     "output_type": "execute_result"
    }
   ],
   "source": [
    "create_model"
   ]
  },
  {
   "cell_type": "code",
   "execution_count": 165,
   "metadata": {},
   "outputs": [
    {
     "ename": "ValueError",
     "evalue": "Found input variables with inconsistent numbers of samples: [3168, 1]",
     "output_type": "error",
     "traceback": [
      "\u001b[1;31m---------------------------------------------------------------------------\u001b[0m",
      "\u001b[1;31mValueError\u001b[0m                                Traceback (most recent call last)",
      "\u001b[1;32m<ipython-input-165-b44cc30dd8c5>\u001b[0m in \u001b[0;36m<module>\u001b[1;34m\u001b[0m\n\u001b[0;32m      2\u001b[0m \u001b[0mestimator\u001b[0m \u001b[1;33m=\u001b[0m \u001b[0mKerasClassifier\u001b[0m\u001b[1;33m(\u001b[0m\u001b[0mbuild_fn\u001b[0m \u001b[1;33m=\u001b[0m\u001b[0mcreate_model\u001b[0m\u001b[1;33m,\u001b[0m \u001b[0mepochs\u001b[0m \u001b[1;33m=\u001b[0m \u001b[1;36m100\u001b[0m\u001b[1;33m,\u001b[0m \u001b[0mverbose\u001b[0m \u001b[1;33m=\u001b[0m \u001b[1;36m0\u001b[0m\u001b[1;33m)\u001b[0m\u001b[1;33m\u001b[0m\u001b[1;33m\u001b[0m\u001b[0m\n\u001b[0;32m      3\u001b[0m \u001b[1;31m#cv_scores = cross_val_score(estimator,all_features,all_classes, cv=10)\u001b[0m\u001b[1;33m\u001b[0m\u001b[1;33m\u001b[0m\u001b[1;33m\u001b[0m\u001b[0m\n\u001b[1;32m----> 4\u001b[1;33m \u001b[0mcv_scores\u001b[0m \u001b[1;33m=\u001b[0m \u001b[0mcross_val_score\u001b[0m\u001b[1;33m(\u001b[0m\u001b[0mestimator\u001b[0m\u001b[1;33m,\u001b[0m\u001b[0mx\u001b[0m\u001b[1;33m,\u001b[0m\u001b[0my_\u001b[0m\u001b[1;33m,\u001b[0m \u001b[0mcv\u001b[0m\u001b[1;33m=\u001b[0m\u001b[1;36m10\u001b[0m\u001b[1;33m)\u001b[0m\u001b[1;33m\u001b[0m\u001b[1;33m\u001b[0m\u001b[0m\n\u001b[0m\u001b[0;32m      5\u001b[0m \u001b[0mcv_scores\u001b[0m\u001b[1;33m.\u001b[0m\u001b[0mmean\u001b[0m\u001b[1;33m(\u001b[0m\u001b[1;33m)\u001b[0m\u001b[1;33m\u001b[0m\u001b[1;33m\u001b[0m\u001b[0m\n\u001b[0;32m      6\u001b[0m \u001b[1;33m\u001b[0m\u001b[0m\n",
      "\u001b[1;32m~\\Anaconda3\\lib\\site-packages\\sklearn\\model_selection\\_validation.py\u001b[0m in \u001b[0;36mcross_val_score\u001b[1;34m(estimator, X, y, groups, scoring, cv, n_jobs, verbose, fit_params, pre_dispatch, error_score)\u001b[0m\n\u001b[0;32m    400\u001b[0m                                 \u001b[0mfit_params\u001b[0m\u001b[1;33m=\u001b[0m\u001b[0mfit_params\u001b[0m\u001b[1;33m,\u001b[0m\u001b[1;33m\u001b[0m\u001b[1;33m\u001b[0m\u001b[0m\n\u001b[0;32m    401\u001b[0m                                 \u001b[0mpre_dispatch\u001b[0m\u001b[1;33m=\u001b[0m\u001b[0mpre_dispatch\u001b[0m\u001b[1;33m,\u001b[0m\u001b[1;33m\u001b[0m\u001b[1;33m\u001b[0m\u001b[0m\n\u001b[1;32m--> 402\u001b[1;33m                                 error_score=error_score)\n\u001b[0m\u001b[0;32m    403\u001b[0m     \u001b[1;32mreturn\u001b[0m \u001b[0mcv_results\u001b[0m\u001b[1;33m[\u001b[0m\u001b[1;34m'test_score'\u001b[0m\u001b[1;33m]\u001b[0m\u001b[1;33m\u001b[0m\u001b[1;33m\u001b[0m\u001b[0m\n\u001b[0;32m    404\u001b[0m \u001b[1;33m\u001b[0m\u001b[0m\n",
      "\u001b[1;32m~\\Anaconda3\\lib\\site-packages\\sklearn\\model_selection\\_validation.py\u001b[0m in \u001b[0;36mcross_validate\u001b[1;34m(estimator, X, y, groups, scoring, cv, n_jobs, verbose, fit_params, pre_dispatch, return_train_score, return_estimator, error_score)\u001b[0m\n\u001b[0;32m    223\u001b[0m \u001b[1;33m\u001b[0m\u001b[0m\n\u001b[0;32m    224\u001b[0m     \"\"\"\n\u001b[1;32m--> 225\u001b[1;33m     \u001b[0mX\u001b[0m\u001b[1;33m,\u001b[0m \u001b[0my\u001b[0m\u001b[1;33m,\u001b[0m \u001b[0mgroups\u001b[0m \u001b[1;33m=\u001b[0m \u001b[0mindexable\u001b[0m\u001b[1;33m(\u001b[0m\u001b[0mX\u001b[0m\u001b[1;33m,\u001b[0m \u001b[0my\u001b[0m\u001b[1;33m,\u001b[0m \u001b[0mgroups\u001b[0m\u001b[1;33m)\u001b[0m\u001b[1;33m\u001b[0m\u001b[1;33m\u001b[0m\u001b[0m\n\u001b[0m\u001b[0;32m    226\u001b[0m \u001b[1;33m\u001b[0m\u001b[0m\n\u001b[0;32m    227\u001b[0m     \u001b[0mcv\u001b[0m \u001b[1;33m=\u001b[0m \u001b[0mcheck_cv\u001b[0m\u001b[1;33m(\u001b[0m\u001b[0mcv\u001b[0m\u001b[1;33m,\u001b[0m \u001b[0my\u001b[0m\u001b[1;33m,\u001b[0m \u001b[0mclassifier\u001b[0m\u001b[1;33m=\u001b[0m\u001b[0mis_classifier\u001b[0m\u001b[1;33m(\u001b[0m\u001b[0mestimator\u001b[0m\u001b[1;33m)\u001b[0m\u001b[1;33m)\u001b[0m\u001b[1;33m\u001b[0m\u001b[1;33m\u001b[0m\u001b[0m\n",
      "\u001b[1;32m~\\Anaconda3\\lib\\site-packages\\sklearn\\utils\\validation.py\u001b[0m in \u001b[0;36mindexable\u001b[1;34m(*iterables)\u001b[0m\n\u001b[0;32m    258\u001b[0m         \u001b[1;32melse\u001b[0m\u001b[1;33m:\u001b[0m\u001b[1;33m\u001b[0m\u001b[1;33m\u001b[0m\u001b[0m\n\u001b[0;32m    259\u001b[0m             \u001b[0mresult\u001b[0m\u001b[1;33m.\u001b[0m\u001b[0mappend\u001b[0m\u001b[1;33m(\u001b[0m\u001b[0mnp\u001b[0m\u001b[1;33m.\u001b[0m\u001b[0marray\u001b[0m\u001b[1;33m(\u001b[0m\u001b[0mX\u001b[0m\u001b[1;33m)\u001b[0m\u001b[1;33m)\u001b[0m\u001b[1;33m\u001b[0m\u001b[1;33m\u001b[0m\u001b[0m\n\u001b[1;32m--> 260\u001b[1;33m     \u001b[0mcheck_consistent_length\u001b[0m\u001b[1;33m(\u001b[0m\u001b[1;33m*\u001b[0m\u001b[0mresult\u001b[0m\u001b[1;33m)\u001b[0m\u001b[1;33m\u001b[0m\u001b[1;33m\u001b[0m\u001b[0m\n\u001b[0m\u001b[0;32m    261\u001b[0m     \u001b[1;32mreturn\u001b[0m \u001b[0mresult\u001b[0m\u001b[1;33m\u001b[0m\u001b[1;33m\u001b[0m\u001b[0m\n\u001b[0;32m    262\u001b[0m \u001b[1;33m\u001b[0m\u001b[0m\n",
      "\u001b[1;32m~\\Anaconda3\\lib\\site-packages\\sklearn\\utils\\validation.py\u001b[0m in \u001b[0;36mcheck_consistent_length\u001b[1;34m(*arrays)\u001b[0m\n\u001b[0;32m    233\u001b[0m     \u001b[1;32mif\u001b[0m \u001b[0mlen\u001b[0m\u001b[1;33m(\u001b[0m\u001b[0muniques\u001b[0m\u001b[1;33m)\u001b[0m \u001b[1;33m>\u001b[0m \u001b[1;36m1\u001b[0m\u001b[1;33m:\u001b[0m\u001b[1;33m\u001b[0m\u001b[1;33m\u001b[0m\u001b[0m\n\u001b[0;32m    234\u001b[0m         raise ValueError(\"Found input variables with inconsistent numbers of\"\n\u001b[1;32m--> 235\u001b[1;33m                          \" samples: %r\" % [int(l) for l in lengths])\n\u001b[0m\u001b[0;32m    236\u001b[0m \u001b[1;33m\u001b[0m\u001b[0m\n\u001b[0;32m    237\u001b[0m \u001b[1;33m\u001b[0m\u001b[0m\n",
      "\u001b[1;31mValueError\u001b[0m: Found input variables with inconsistent numbers of samples: [3168, 1]"
     ]
    }
   ],
   "source": [
    "from tensorflow.keras.wrappers.scikit_learn import KerasClassifier\n",
    "estimator = KerasClassifier(build_fn =create_model, epochs = 100, verbose = 0)\n",
    "#cv_scores = cross_val_score(estimator,all_features,all_classes, cv=10)\n",
    "cv_scores = cross_val_score(estimator,x,y_, cv=10)\n",
    "cv_scores.mean()\n",
    "\n"
   ]
  },
  {
   "cell_type": "code",
   "execution_count": null,
   "metadata": {},
   "outputs": [],
   "source": []
  },
  {
   "cell_type": "markdown",
   "metadata": {},
   "source": [
    "##  Univariate Feature Selection\n",
    "\n",
    "Univariate feature selection selects the best features by running univariate statistical tests like chi-squared test, F-1 test, and mutual information methods."
   ]
  },
  {
   "cell_type": "code",
   "execution_count": 166,
   "metadata": {},
   "outputs": [
    {
     "data": {
      "text/plain": [
       "SelectKBest(k=2, score_func=<function chi2 at 0x000001DB79B8B378>)"
      ]
     },
     "execution_count": 166,
     "metadata": {},
     "output_type": "execute_result"
    }
   ],
   "source": [
    "from sklearn.feature_selection import SelectKBest\n",
    "from sklearn.feature_selection import chi2, mutual_info_classif\n",
    "\n",
    "test = SelectKBest(score_func=chi2, k=2)\n",
    "test.fit(x, y)"
   ]
  },
  {
   "cell_type": "code",
   "execution_count": 167,
   "metadata": {},
   "outputs": [
    {
     "ename": "AttributeError",
     "evalue": "'numpy.ndarray' object has no attribute 'columns'",
     "output_type": "error",
     "traceback": [
      "\u001b[1;31m---------------------------------------------------------------------------\u001b[0m",
      "\u001b[1;31mAttributeError\u001b[0m                            Traceback (most recent call last)",
      "\u001b[1;32m<ipython-input-167-1e66b587685c>\u001b[0m in \u001b[0;36m<module>\u001b[1;34m\u001b[0m\n\u001b[0;32m      1\u001b[0m \u001b[0mscores\u001b[0m \u001b[1;33m=\u001b[0m \u001b[1;33m[\u001b[0m\u001b[1;33m]\u001b[0m\u001b[1;33m\u001b[0m\u001b[1;33m\u001b[0m\u001b[0m\n\u001b[1;32m----> 2\u001b[1;33m \u001b[0mnum_features\u001b[0m \u001b[1;33m=\u001b[0m \u001b[0mlen\u001b[0m\u001b[1;33m(\u001b[0m\u001b[0mx\u001b[0m\u001b[1;33m.\u001b[0m\u001b[0mcolumns\u001b[0m\u001b[1;33m)\u001b[0m\u001b[1;33m\u001b[0m\u001b[1;33m\u001b[0m\u001b[0m\n\u001b[0m\u001b[0;32m      3\u001b[0m \u001b[1;32mfor\u001b[0m \u001b[0mi\u001b[0m \u001b[1;32min\u001b[0m \u001b[0mrange\u001b[0m\u001b[1;33m(\u001b[0m\u001b[0mnum_features\u001b[0m\u001b[1;33m)\u001b[0m\u001b[1;33m:\u001b[0m\u001b[1;33m\u001b[0m\u001b[1;33m\u001b[0m\u001b[0m\n\u001b[0;32m      4\u001b[0m     \u001b[0mscore\u001b[0m \u001b[1;33m=\u001b[0m \u001b[0mtest\u001b[0m\u001b[1;33m.\u001b[0m\u001b[0mscores_\u001b[0m\u001b[1;33m[\u001b[0m\u001b[0mi\u001b[0m\u001b[1;33m]\u001b[0m\u001b[1;33m\u001b[0m\u001b[1;33m\u001b[0m\u001b[0m\n\u001b[0;32m      5\u001b[0m     \u001b[1;31m#scores.append((score, x.columns[i]))\u001b[0m\u001b[1;33m\u001b[0m\u001b[1;33m\u001b[0m\u001b[1;33m\u001b[0m\u001b[0m\n",
      "\u001b[1;31mAttributeError\u001b[0m: 'numpy.ndarray' object has no attribute 'columns'"
     ]
    }
   ],
   "source": [
    "scores = []\n",
    "num_features = len(x.columns)\n",
    "for i in range(num_features):\n",
    "    score = test.scores_[i]\n",
    "    #scores.append((score, x.columns[i]))\n",
    "        \n",
    "print (sorted(scores, reverse = True))"
   ]
  },
  {
   "cell_type": "code",
   "execution_count": null,
   "metadata": {},
   "outputs": [],
   "source": []
  },
  {
   "cell_type": "code",
   "execution_count": 168,
   "metadata": {},
   "outputs": [
    {
     "name": "stdout",
     "output_type": "stream",
     "text": [
      "The 5 best features selected by this method are :\n"
     ]
    },
    {
     "ename": "IndexError",
     "evalue": "list index out of range",
     "output_type": "error",
     "traceback": [
      "\u001b[1;31m---------------------------------------------------------------------------\u001b[0m",
      "\u001b[1;31mIndexError\u001b[0m                                Traceback (most recent call last)",
      "\u001b[1;32m<ipython-input-168-945fb39f9a13>\u001b[0m in \u001b[0;36m<module>\u001b[1;34m\u001b[0m\n\u001b[0;32m      1\u001b[0m \u001b[1;33m\u001b[0m\u001b[0m\n\u001b[1;32m----> 2\u001b[1;33m \u001b[0mprint_best_worst\u001b[0m\u001b[1;33m(\u001b[0m\u001b[0mscores\u001b[0m\u001b[1;33m)\u001b[0m\u001b[1;33m\u001b[0m\u001b[1;33m\u001b[0m\u001b[0m\n\u001b[0m",
      "\u001b[1;32m<ipython-input-55-0ff86547b471>\u001b[0m in \u001b[0;36mprint_best_worst\u001b[1;34m(scores)\u001b[0m\n\u001b[0;32m      4\u001b[0m     \u001b[0mprint\u001b[0m\u001b[1;33m(\u001b[0m\u001b[1;34m\"The 5 best features selected by this method are :\"\u001b[0m\u001b[1;33m)\u001b[0m\u001b[1;33m\u001b[0m\u001b[1;33m\u001b[0m\u001b[0m\n\u001b[0;32m      5\u001b[0m     \u001b[1;32mfor\u001b[0m \u001b[0mi\u001b[0m \u001b[1;32min\u001b[0m \u001b[0mrange\u001b[0m\u001b[1;33m(\u001b[0m\u001b[1;36m5\u001b[0m\u001b[1;33m)\u001b[0m\u001b[1;33m:\u001b[0m\u001b[1;33m\u001b[0m\u001b[1;33m\u001b[0m\u001b[0m\n\u001b[1;32m----> 6\u001b[1;33m         \u001b[0mprint\u001b[0m\u001b[1;33m(\u001b[0m\u001b[0mscores\u001b[0m\u001b[1;33m[\u001b[0m\u001b[0mi\u001b[0m\u001b[1;33m]\u001b[0m\u001b[1;33m[\u001b[0m\u001b[1;36m1\u001b[0m\u001b[1;33m]\u001b[0m\u001b[1;33m)\u001b[0m\u001b[1;33m\u001b[0m\u001b[1;33m\u001b[0m\u001b[0m\n\u001b[0m\u001b[0;32m      7\u001b[0m \u001b[1;33m\u001b[0m\u001b[0m\n\u001b[0;32m      8\u001b[0m     \u001b[0mprint\u001b[0m \u001b[1;33m(\u001b[0m\u001b[1;34m\"The 5 worst features selected by this method are :\"\u001b[0m\u001b[1;33m)\u001b[0m\u001b[1;33m\u001b[0m\u001b[1;33m\u001b[0m\u001b[0m\n",
      "\u001b[1;31mIndexError\u001b[0m: list index out of range"
     ]
    }
   ],
   "source": [
    "\n",
    "print_best_worst(scores)\n"
   ]
  },
  {
   "cell_type": "code",
   "execution_count": null,
   "metadata": {},
   "outputs": [],
   "source": []
  },
  {
   "cell_type": "code",
   "execution_count": null,
   "metadata": {},
   "outputs": [],
   "source": []
  }
 ],
 "metadata": {
  "kernelspec": {
   "display_name": "Python 3",
   "language": "python",
   "name": "python3"
  },
  "language_info": {
   "codemirror_mode": {
    "name": "ipython",
    "version": 3
   },
   "file_extension": ".py",
   "mimetype": "text/x-python",
   "name": "python",
   "nbconvert_exporter": "python",
   "pygments_lexer": "ipython3",
   "version": "3.7.1"
  }
 },
 "nbformat": 4,
 "nbformat_minor": 2
}
